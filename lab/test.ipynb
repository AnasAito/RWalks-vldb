{
 "cells": [
  {
   "cell_type": "code",
   "execution_count": 4,
   "metadata": {},
   "outputs": [],
   "source": [
    "import h5py\n",
    "import numpy as np"
   ]
  },
  {
   "cell_type": "code",
   "execution_count": 2,
   "metadata": {},
   "outputs": [],
   "source": [
    "data = h5py.File(\"/Users/mac/dev/RWalks-vldb/data/sift_50k.h5\", 'r')"
   ]
  },
  {
   "cell_type": "code",
   "execution_count": 3,
   "metadata": {},
   "outputs": [
    {
     "data": {
      "text/plain": [
       "<KeysViewHDF5 ['neighbors_selectivity_0_05', 'neighbors_selectivity_0_1', 'neighbors_selectivity_0_2', 'neighbors_selectivity_0_3', 'neighbors_selectivity_0_4', 'test_attr_vectors', 'test_vectors', 'train_attr_vectors', 'train_vectors']>"
      ]
     },
     "execution_count": 3,
     "metadata": {},
     "output_type": "execute_result"
    }
   ],
   "source": [
    "data.keys()"
   ]
  },
  {
   "cell_type": "code",
   "execution_count": 6,
   "metadata": {},
   "outputs": [
    {
     "name": "stderr",
     "output_type": "stream",
     "text": [
      "/var/folders/3c/x4zyh8zx7n7c0rhsv2mn99vr0000gn/T/ipykernel_32876/179111938.py:1: DeprecationWarning: `product` is deprecated as of NumPy 1.25.0, and will be removed in NumPy 2.0. Please use `prod` instead.\n",
      "  train_vecs = np.array(data[\"train_vectors\"])\n",
      "/var/folders/3c/x4zyh8zx7n7c0rhsv2mn99vr0000gn/T/ipykernel_32876/179111938.py:2: DeprecationWarning: `product` is deprecated as of NumPy 1.25.0, and will be removed in NumPy 2.0. Please use `prod` instead.\n",
      "  test_vecs = np.array(data[\"test_vectors\"])\n",
      "/var/folders/3c/x4zyh8zx7n7c0rhsv2mn99vr0000gn/T/ipykernel_32876/179111938.py:3: DeprecationWarning: `product` is deprecated as of NumPy 1.25.0, and will be removed in NumPy 2.0. Please use `prod` instead.\n",
      "  train_attr = np.array(data[\"train_attr_vectors\"])\n",
      "/var/folders/3c/x4zyh8zx7n7c0rhsv2mn99vr0000gn/T/ipykernel_32876/179111938.py:4: DeprecationWarning: `product` is deprecated as of NumPy 1.25.0, and will be removed in NumPy 2.0. Please use `prod` instead.\n",
      "  test_attr = np.array(data[\"test_attr_vectors\"])\n",
      "/var/folders/3c/x4zyh8zx7n7c0rhsv2mn99vr0000gn/T/ipykernel_32876/179111938.py:5: DeprecationWarning: `product` is deprecated as of NumPy 1.25.0, and will be removed in NumPy 2.0. Please use `prod` instead.\n",
      "  neis = np.array(data[\"neighbors_selectivity_0_05\"])\n"
     ]
    }
   ],
   "source": [
    "train_vecs = np.array(data[\"train_vectors\"])\n",
    "test_vecs = np.array(data[\"test_vectors\"])\n",
    "train_attr = np.array(data[\"train_attr_vectors\"])\n",
    "test_attr = np.array(data[\"test_attr_vectors\"])\n",
    "neis = np.array(data[\"neighbors_selectivity_0_05\"])\n",
    "\n",
    "\n",
    "# mask ids\n",
    "column_idx_start, column_idx_end = (0, 19)\n",
    "for col in range(test_attr.shape[1]):\n",
    "    test_attr[:, :column_idx_start] = 0\n",
    "    test_attr[:, column_idx_end+1:] = 0\n",
    "\n",
    "# write to new h5 file\n",
    "with h5py.File(\"/Users/mac/dev/RWalks-vldb/data/sift_50k_s_005.h5\", 'w') as hf:\n",
    "    hf.create_dataset('train_vectors', data=train_vecs)\n",
    "    hf.create_dataset('test_vectors', data=test_vecs)\n",
    "    hf.create_dataset('train_attr_vectors', data=train_attr)\n",
    "    hf.create_dataset('test_attr_vectors', data=test_attr)\n",
    "    hf.create_dataset('neighbors', data=neis)"
   ]
  }
 ],
 "metadata": {
  "kernelspec": {
   "display_name": "rwalks-vldb",
   "language": "python",
   "name": "python3"
  },
  "language_info": {
   "codemirror_mode": {
    "name": "ipython",
    "version": 3
   },
   "file_extension": ".py",
   "mimetype": "text/x-python",
   "name": "python",
   "nbconvert_exporter": "python",
   "pygments_lexer": "ipython3",
   "version": "3.11.7"
  },
  "orig_nbformat": 4
 },
 "nbformat": 4,
 "nbformat_minor": 2
}
